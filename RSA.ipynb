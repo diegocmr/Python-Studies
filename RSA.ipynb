{
 "cells": [
  {
   "cell_type": "markdown",
   "metadata": {},
   "source": [
    "# RSA ALGORITHM IN PYTHON"
   ]
  },
  {
   "cell_type": "markdown",
   "metadata": {},
   "source": [
    "### CYBERSECURITY ASSIGNMENT FOR COMPUTER ENGINEERING BACHELOR'S DEGREE APRIL 2019"
   ]
  },
  {
   "cell_type": "markdown",
   "metadata": {},
   "source": [
    "#### MADE BY DIEGO COHEN"
   ]
  },
  {
   "cell_type": "markdown",
   "metadata": {},
   "source": [
    "Steps undertaken:\n",
    "---------------------------------------------------------\n",
    "1. Obtaining bitrate for encryption (up to 4096 bits, maybe more)\n",
    "---------------------------------------------------------\n",
    "2. Prime Number Aquisition and Selection of \"p\" and \"q\"\n",
    "3. Calculating 'N'\n",
    "4. Totient Function Calculation \"Tot\" = (p-1) * (q-1)\n",
    "5. Finding an \"e\" number, prime with totient number\n",
    "6. Finding \"d\" such that e * d * mod(tot)=1\n",
    "---------------------------------------------------------\n",
    "7. Obtaining string to be cryptographed\n",
    "---------------------------------------------------------\n",
    "8. Converting string into ASCII numbers\n",
    "9. Cryptographing ASCII data\n",
    "10. Inserting cryptographed data in a Python list\n",
    "---------------------------------------------------------\n",
    "11. Returning from Hexadecimal to Integer\n",
    "12. Decryptographing ASCII data\n",
    "13. Converting ASCII data to a Python list\n",
    "14. Converting Python list back to a string.\n"
   ]
  },
  {
   "cell_type": "markdown",
   "metadata": {},
   "source": [
    "## STARTING DATA"
   ]
  },
  {
   "cell_type": "markdown",
   "metadata": {},
   "source": [
    "### 1 - IMPORTS AND BITRATE SELECTION"
   ]
  },
  {
   "cell_type": "code",
   "execution_count": null,
   "metadata": {
    "collapsed": false
   },
   "outputs": [],
   "source": [
    "#imports\n",
    "#importing sympy\n",
    "import subprocess\n",
    "import sys\n",
    "subprocess.call([sys.executable, \"-m\", \"pip\", \"install\", 'sympy'])\n",
    "import sympy\n",
    "\n",
    "import math\n",
    "import random"
   ]
  },
  {
   "cell_type": "code",
   "execution_count": null,
   "metadata": {
    "collapsed": false
   },
   "outputs": [],
   "source": [
    "b = int(input(\"INPUT LEVEL OF ENCRYPTION: \"))\n",
    "while b<3 or b>4096:\n",
    "    b = int(input(\"INCORRECT VALUE. TRY AGAIN.\"))\n",
    "    \n",
    "print (\"\\nCHOSEN LEVEL OF ENCRYPTION:\", b, \"bits.\")"
   ]
  },
  {
   "cell_type": "markdown",
   "metadata": {},
   "source": [
    "### 2 - Prime Number Aquisition and Selection of \"p\" and \"q"
   ]
  },
  {
   "cell_type": "code",
   "execution_count": null,
   "metadata": {
    "collapsed": false
   },
   "outputs": [],
   "source": [
    "#transforming the bitrate input into a maximum number\n",
    "bb=2**b\n",
    "\n",
    "print (\"Found maximum integer for calculations.\")"
   ]
  },
  {
   "cell_type": "code",
   "execution_count": null,
   "metadata": {
    "collapsed": false
   },
   "outputs": [],
   "source": [
    "#calculating prime numbers \"p\" and \"q\"\n",
    "print (\"Calculating. Please wait.\")\n",
    "p = sympy.randprime(3,bb)\n",
    "q = sympy.randprime(3,bb)\n",
    "\n",
    "print(\"P and Q calculated.\")"
   ]
  },
  {
   "cell_type": "markdown",
   "metadata": {},
   "source": [
    "### 3 - CALCULATING N"
   ]
  },
  {
   "cell_type": "code",
   "execution_count": null,
   "metadata": {
    "collapsed": false
   },
   "outputs": [],
   "source": [
    "n=p*q\n",
    "print (\"'N' calculated.\")"
   ]
  },
  {
   "cell_type": "markdown",
   "metadata": {},
   "source": [
    "### 4 - CALCULATING Totient Function"
   ]
  },
  {
   "cell_type": "code",
   "execution_count": null,
   "metadata": {
    "collapsed": false
   },
   "outputs": [],
   "source": [
    "tot = (p-1)*(q-1)\n",
    "print (\"Totient Function calculated.\")"
   ]
  },
  {
   "cell_type": "markdown",
   "metadata": {},
   "source": [
    "### 5 - CALCULATING 'E'"
   ]
  },
  {
   "cell_type": "markdown",
   "metadata": {},
   "source": [
    "In this step I'll be obtaining an integer that is coprime to \"Tot\""
   ]
  },
  {
   "cell_type": "code",
   "execution_count": null,
   "metadata": {
    "collapsed": false
   },
   "outputs": [],
   "source": [
    "#If totient is even, obtain a odd integer. If not, obtain a even integer.\n",
    "e = tot\n",
    "while tot==e:\n",
    "    if tot%2==0:\n",
    "        e = random.randint(3,tot)\n",
    "        if e%2==0:\n",
    "            e = e + 1\n",
    "    else:\n",
    "        e = random.randint(2,tot)\n",
    "        if e%2!=0:\n",
    "            e = e + 1\n",
    "\n",
    "    if math.gcd(tot,e)!=1: #verifying if e is coprime to tot\n",
    "        e=tot\n",
    "        \n",
    "print (\"'E' calculated.\")"
   ]
  },
  {
   "cell_type": "markdown",
   "metadata": {},
   "source": [
    "### 6 - OBTAINING 'D'"
   ]
  },
  {
   "cell_type": "code",
   "execution_count": null,
   "metadata": {
    "collapsed": false
   },
   "outputs": [],
   "source": [
    "d=sympy.numbers.mod_inverse(e,tot)\n",
    "\n",
    "    \n",
    "print (\"'D' calculated.\")\n",
    "    "
   ]
  },
  {
   "cell_type": "markdown",
   "metadata": {},
   "source": [
    "# RESULTS"
   ]
  },
  {
   "cell_type": "markdown",
   "metadata": {},
   "source": [
    "Below are the numbers found using the algorithms above."
   ]
  },
  {
   "cell_type": "code",
   "execution_count": null,
   "metadata": {
    "collapsed": false
   },
   "outputs": [],
   "source": [
    "print(\"Encryption:\\t\\t\",b,\"bits\")\n",
    "print (\"Totient Function:\\t\",tot)\n",
    "print (\"N:\\t\\t\\t\",n)\n",
    "print (\"PUBLIC KEY:\\t\\t\",e)\n",
    "print (\"PRIVATE KEY:\\t\\t\",d)"
   ]
  },
  {
   "cell_type": "markdown",
   "metadata": {},
   "source": [
    "# CRYPTOGRAPHING"
   ]
  },
  {
   "cell_type": "markdown",
   "metadata": {},
   "source": [
    "### 7. OBTAINING STRING TO BE CRYPTOGRAPHED"
   ]
  },
  {
   "cell_type": "markdown",
   "metadata": {},
   "source": [
    "Type the string to be cryptographed below."
   ]
  },
  {
   "cell_type": "code",
   "execution_count": null,
   "metadata": {
    "collapsed": false
   },
   "outputs": [],
   "source": [
    "C = (input(\"INPUT STRING: \"))"
   ]
  },
  {
   "cell_type": "markdown",
   "metadata": {},
   "source": [
    "### 8. CONVERTING STRING INTO ASCII NUMBERS"
   ]
  },
  {
   "cell_type": "code",
   "execution_count": null,
   "metadata": {
    "collapsed": false
   },
   "outputs": [],
   "source": [
    "string = [i for i in C]\n",
    "ascii_conv=[ord(i) for i in string] #converting to ascii\n",
    "print (\"String as integers:\",ascii_conv)"
   ]
  },
  {
   "cell_type": "markdown",
   "metadata": {},
   "source": [
    "### 9. CRYPTOGRAPHING ASCII DATA"
   ]
  },
  {
   "cell_type": "code",
   "execution_count": null,
   "metadata": {
    "collapsed": false,
    "scrolled": false
   },
   "outputs": [],
   "source": [
    "crypt=[]\n",
    "\n",
    "for i in range (len(ascii_conv)):\n",
    "    crypt.append(pow(ascii_conv[i],e,n))\n",
    "\n",
    "print (\"Cryptographed Integers:\", crypt)"
   ]
  },
  {
   "cell_type": "markdown",
   "metadata": {},
   "source": [
    "### 10. INSERTING CRYPTOGRAPHED DATA IN A PYTHON LIST"
   ]
  },
  {
   "cell_type": "code",
   "execution_count": null,
   "metadata": {
    "collapsed": false
   },
   "outputs": [],
   "source": [
    "crypt_hex=[]\n",
    "for i in range (len(crypt)):\n",
    "    h='{:X}'.format(crypt[i])\n",
    "    crypt_hex.append(h)\n",
    "    \n",
    "print (\"Cryptographed Integers as Hex:\", crypt_hex)"
   ]
  },
  {
   "cell_type": "markdown",
   "metadata": {},
   "source": [
    "### DECRYPTOGRAPHING"
   ]
  },
  {
   "cell_type": "markdown",
   "metadata": {},
   "source": [
    "### 11. RETURNING FROM HEXDECIMAL TO INTEGER"
   ]
  },
  {
   "cell_type": "code",
   "execution_count": null,
   "metadata": {
    "collapsed": false,
    "scrolled": true
   },
   "outputs": [],
   "source": [
    "#Cryptographed Hex to Integers\n",
    "crypt_integer=[]\n",
    "\n",
    "for i in range (len(crypt_hex)):\n",
    "    crypt_integer.append(int(crypt_hex[i],16))\n",
    "\n",
    "print (crypt_integer)"
   ]
  },
  {
   "cell_type": "markdown",
   "metadata": {},
   "source": [
    "### 12. DECRYPTING INTEGER DATA BACK TO ASCII\n"
   ]
  },
  {
   "cell_type": "code",
   "execution_count": null,
   "metadata": {
    "collapsed": false
   },
   "outputs": [],
   "source": [
    "#Cryptographed Integers to Decryptographed Integers\n",
    "decrypt_integer=[]\n",
    "\n",
    "for i in range (len(crypt_integer)):\n",
    "    decrypt_integer.append(pow(crypt_integer[i],d,n))\n",
    "    \n",
    "print (decrypt_integer)"
   ]
  },
  {
   "cell_type": "markdown",
   "metadata": {},
   "source": [
    "### 13. CONVERTING ASCII DATA TO A PYTHON LIST"
   ]
  },
  {
   "cell_type": "code",
   "execution_count": null,
   "metadata": {
    "collapsed": false
   },
   "outputs": [],
   "source": [
    "#Integers as List\n",
    "string_list=[]\n",
    "\n",
    "for i in range (len(decrypt_integer)):\n",
    "    string_list.append(chr(decrypt_integer[i]))\n",
    "    \n",
    "print (string_list)\n"
   ]
  },
  {
   "cell_type": "markdown",
   "metadata": {},
   "source": [
    "### 14. CONVERTING PYTHON LIST BACK TO A STRING"
   ]
  },
  {
   "cell_type": "code",
   "execution_count": null,
   "metadata": {
    "collapsed": false
   },
   "outputs": [],
   "source": [
    "#List as String\n",
    "decrypt_string = \"\"\n",
    "for i in range (len(string_list)):\n",
    "    decrypt_string=decrypt_string+string_list[i]\n",
    "    \n",
    "print (decrypt_string)\n"
   ]
  },
  {
   "cell_type": "markdown",
   "metadata": {},
   "source": [
    "### END"
   ]
  }
 ],
 "metadata": {
  "kernelspec": {
   "display_name": "Python 3",
   "language": "python",
   "name": "python3"
  },
  "language_info": {
   "codemirror_mode": {
    "name": "ipython",
    "version": 3
   },
   "file_extension": ".py",
   "mimetype": "text/x-python",
   "name": "python",
   "nbconvert_exporter": "python",
   "pygments_lexer": "ipython3",
   "version": "3.5.2"
  },
  "widgets": {
   "state": {},
   "version": "1.1.2"
  }
 },
 "nbformat": 4,
 "nbformat_minor": 2
}
